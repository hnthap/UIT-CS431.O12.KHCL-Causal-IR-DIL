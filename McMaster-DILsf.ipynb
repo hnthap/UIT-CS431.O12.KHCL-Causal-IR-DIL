{
 "cells": [
  {
   "cell_type": "markdown",
   "metadata": {},
   "source": [
    "# Causal-IR-DIR áp dụng trên McMaster dataset bằng $\\text{DIR}_{\\text{sf}}$"
   ]
  },
  {
   "cell_type": "code",
   "execution_count": 4,
   "metadata": {},
   "outputs": [
    {
     "name": "stderr",
     "output_type": "stream",
     "text": [
      "c:\\Users\\C15TQK\\anaconda3\\envs\\uit-cs431\\lib\\site-packages\\tqdm\\auto.py:21: TqdmWarning: IProgress not found. Please update jupyter and ipywidgets. See https://ipywidgets.readthedocs.io/en/stable/user_install.html\n",
      "  from .autonotebook import tqdm as notebook_tqdm\n"
     ]
    }
   ],
   "source": [
    "import os\n",
    "from zipfile import ZipFile\n",
    "\n",
    "import cv2\n",
    "import numpy as np\n",
    "\n",
    "import torch\n",
    "import torch.distributed as dist\n",
    "from torch.nn.parallel import DistributedDataParallel\n",
    "import torch.optim as optim\n",
    "from torch.utils import data"
   ]
  },
  {
   "cell_type": "markdown",
   "metadata": {},
   "source": [
    "## Set-up về việc có dùng Google Colab hay không"
   ]
  },
  {
   "cell_type": "markdown",
   "metadata": {},
   "source": [
    "Nếu đang chạy trên Google Colab thì path đến file ZIP của dataset sẽ được cập nhật theo shortcut trên Google Drive. (Xem thêm trong file `README.md`)"
   ]
  },
  {
   "cell_type": "code",
   "execution_count": 3,
   "metadata": {},
   "outputs": [
    {
     "name": "stdout",
     "output_type": "stream",
     "text": [
      "This notebook is not running on Google Colab\n"
     ]
    }
   ],
   "source": [
    "is_gcolab: bool = False\n",
    "try:\n",
    "    if str(get_ipython()) == 'google.colab':\n",
    "        is_gcolab = True\n",
    "except NameError:\n",
    "    pass\n",
    "\n",
    "if is_gcolab:\n",
    "    print('This notebook is running on Google Colab')\n",
    "else:\n",
    "    print('This notebook is not running on Google Colab')"
   ]
  },
  {
   "cell_type": "code",
   "execution_count": 14,
   "metadata": {},
   "outputs": [
    {
     "name": "stdout",
     "output_type": "stream",
     "text": [
      "Because this is not running with Google Colab, data will not be mounted from Google Drive\n"
     ]
    }
   ],
   "source": [
    "if is_gcolab:\n",
    "    from google.colab import drive\n",
    "    drive.mount('/gdrive')\n",
    "    print('Mounted from Google Drive')\n",
    "else:\n",
    "    print('Because this is not running with Google Colab, '+\n",
    "          'data will not be mounted from Google Drive')"
   ]
  },
  {
   "cell_type": "markdown",
   "metadata": {},
   "source": [
    "## Load dữ liệu\n",
    "\n",
    "McMaster dataset"
   ]
  },
  {
   "cell_type": "code",
   "execution_count": 13,
   "metadata": {},
   "outputs": [
    {
     "name": "stdout",
     "output_type": "stream",
     "text": [
      "./McM.zip\n"
     ]
    }
   ],
   "source": [
    "# Set the path to ZIP file\n",
    "\n",
    "data_zip_filepath = None\n",
    "if is_gcolab:\n",
    "    data_zip_filepath = '/gdrive/MyDrive/McM.zip'\n",
    "else:\n",
    "    data_zip_filepath = './McM.zip'\n",
    "\n",
    "assert data_zip_filepath is not None\n",
    "assert os.path.exists(data_zip_filepath)\n",
    "\n",
    "print(data_zip_filepath)"
   ]
  },
  {
   "cell_type": "code",
   "execution_count": 15,
   "metadata": {},
   "outputs": [
    {
     "name": "stdout",
     "output_type": "stream",
     "text": [
      "./McM\n"
     ]
    }
   ],
   "source": [
    "# Extract all from ZIP file\n",
    "\n",
    "data_dirpath = './McM'\n",
    "\n",
    "with ZipFile(data_zip_filepath, 'r') as zip_ref:\n",
    "    zip_ref.extractall(data_dirpath, pwd='McM_CDM'.encode('utf-8'))\n",
    "\n",
    "assert data_dirpath is not None\n",
    "assert os.path.exists(data_dirpath)\n",
    "\n",
    "print(data_dirpath)"
   ]
  },
  {
   "cell_type": "markdown",
   "metadata": {},
   "source": [
    "## Tiền xử lý"
   ]
  },
  {
   "cell_type": "markdown",
   "metadata": {},
   "source": [
    "### Cắt ảnh ra theo patch 256x256"
   ]
  },
  {
   "cell_type": "code",
   "execution_count": 20,
   "metadata": {},
   "outputs": [
    {
     "name": "stdout",
     "output_type": "stream",
     "text": [
      "./McM\\McM done!\n"
     ]
    }
   ],
   "source": [
    "# Causal-IR-DIL/generate_cropped_DF2K.py\n",
    "\n",
    "folder = os.path.join(data_dirpath, 'McM')\n",
    "dest_folder = './McM-cropped'\n",
    "\n",
    "if not os.path.exists(dest_folder):\n",
    "    os.makedirs(dest_folder)\n",
    "\n",
    "patchsize = 256\n",
    "stride = 256\n",
    "\n",
    "count = 1\n",
    "\n",
    "for img_n in sorted(os.listdir(folder)):\n",
    "    img = cv2.imread(os.path.join(folder, img_n))\n",
    "    h, w, _ = img.shape\n",
    "    h_number = h // patchsize\n",
    "    w_number = w // patchsize\n",
    "    for i in range(h_number):\n",
    "        for j in range(w_number):\n",
    "            start_ij_l = j * stride\n",
    "            start_ij_u = i * stride\n",
    "            end_ij_l = start_ij_l + stride\n",
    "            end_ij_u = start_ij_u + stride\n",
    "            img_crop = img[start_ij_u:end_ij_u, start_ij_l:end_ij_l]\n",
    "            cv2.imwrite(os.path.join(dest_folder, '{:0>6d}.png'.format(count)), img_crop)\n",
    "            count += 1\n",
    "print(\"{} done!\".format(folder))"
   ]
  },
  {
   "cell_type": "markdown",
   "metadata": {},
   "source": [
    "## Xây dựng mô hình sử dụng $\\text{DIR}_{\\text{sf}}$"
   ]
  },
  {
   "cell_type": "code",
   "execution_count": null,
   "metadata": {},
   "outputs": [],
   "source": []
  },
  {
   "cell_type": "markdown",
   "metadata": {},
   "source": [
    "## Huấn luyện\n"
   ]
  },
  {
   "cell_type": "code",
   "execution_count": null,
   "metadata": {},
   "outputs": [],
   "source": []
  },
  {
   "cell_type": "markdown",
   "metadata": {},
   "source": [
    "## Đánh giá"
   ]
  },
  {
   "cell_type": "code",
   "execution_count": null,
   "metadata": {},
   "outputs": [],
   "source": []
  }
 ],
 "metadata": {
  "kernelspec": {
   "display_name": "uit-cs431",
   "language": "python",
   "name": "python3"
  },
  "language_info": {
   "codemirror_mode": {
    "name": "ipython",
    "version": 3
   },
   "file_extension": ".py",
   "mimetype": "text/x-python",
   "name": "python",
   "nbconvert_exporter": "python",
   "pygments_lexer": "ipython3",
   "version": "3.9.18"
  }
 },
 "nbformat": 4,
 "nbformat_minor": 2
}
